{
 "cells": [
  {
   "cell_type": "markdown",
   "metadata": {},
   "source": [
    "https://edgedl.me.gvt1.com/edgedl/chrome/chrome-for-testing/120.0.6099.109/win64/chromedriver-win64.zip"
   ]
  },
  {
   "cell_type": "code",
   "execution_count": 1,
   "metadata": {},
   "outputs": [],
   "source": [
    "#imports here\n",
    "from selenium import webdriver\n",
    "from selenium.webdriver.common.keys import Keys\n",
    "from selenium.webdriver.support import expected_conditions as EC\n",
    "from selenium.webdriver.common.by import By\n",
    "from selenium.webdriver.support.wait import WebDriverWait\n",
    "from selenium.webdriver.chrome.service import Service\n",
    "import time"
   ]
  },
  {
   "cell_type": "code",
   "execution_count": 2,
   "metadata": {},
   "outputs": [],
   "source": [
    "#code by pythonjar, not me\n",
    "service = Service(executable_path='chromedriver.exe')\n",
    "options = webdriver.ChromeOptions()\n",
    "options.add_argument('--disable-notifications')"
   ]
  },
  {
   "cell_type": "code",
   "execution_count": 481,
   "metadata": {},
   "outputs": [],
   "source": [
    "from dotenv import load_dotenv, dotenv_values\n",
    "\n",
    "if not load_dotenv():\n",
    "    raise Exception(\".env not found.\")\n",
    "\n",
    "driver = webdriver.Chrome(service=service, options=options)\n",
    "driver.get(\"https://mbasic.facebook.com/login.php\")\n",
    "\n",
    "config = dotenv_values(\".env\")\n",
    "\n",
    "username = WebDriverWait(driver, 10).until(\n",
    "    EC.element_to_be_clickable((By.CSS_SELECTOR, \"input[name='email']\"))\n",
    ")\n",
    "password = WebDriverWait(driver, 10).until(\n",
    "    EC.element_to_be_clickable((By.CSS_SELECTOR, \"input[name='pass']\"))\n",
    ")\n",
    "\n",
    "# enter username and password\n",
    "username.clear()\n",
    "username.send_keys(config[\"EMAIL\"])\n",
    "password.clear()\n",
    "password.send_keys(config[\"PASS\"])\n",
    "WebDriverWait(driver, 2).until(\n",
    "    EC.element_to_be_clickable((By.CSS_SELECTOR, 'input[type=\"submit\"]'))\n",
    ").click()\n",
    "time.sleep(1)\n",
    "WebDriverWait(driver, 2).until(\n",
    "    EC.element_to_be_clickable((By.CSS_SELECTOR, 'div a[class=\"bo bp bq br bt\"]'))\n",
    ").click()\n",
    "time.sleep(1)"
   ]
  },
  {
   "cell_type": "code",
   "execution_count": 496,
   "metadata": {},
   "outputs": [],
   "source": [
    "import re\n",
    "\n",
    "def replies_scraping(box_comment):\n",
    "    try:\n",
    "        replies_url = (\n",
    "            box_comment\n",
    "            .find_element(By.CSS_SELECTOR, \"div > div:nth-child(5) > div[id] a[href]\")\n",
    "            .get_attribute(\"href\")\n",
    "        )\n",
    "        driver.execute_script(f\"window.open('{replies_url}', '_blank')\")\n",
    "        driver.switch_to.window(driver.window_handles[2])\n",
    "    except:\n",
    "        return None\n",
    "\n",
    "    replie_id = re.search(r\"ctoken=(\\d+_\\d+)\", driver.current_url).group(1)\n",
    "    replies = []\n",
    "\n",
    "    while True:\n",
    "        box_replies = driver.find_elements(\n",
    "            By.CSS_SELECTOR,\n",
    "            'div[id=\"root\"] > div[class] > div[id] + div > div:has(div)',\n",
    "        )\n",
    "        for box in box_replies:\n",
    "            replie = dict()\n",
    "            replie[\"replie_by\"] = box.find_element(By.CSS_SELECTOR, \"div > h3\").text\n",
    "            replie[\"replie\"] = box.find_element(\n",
    "                By.CSS_SELECTOR, \"div > div:nth-child(2)\"\n",
    "            ).text\n",
    "            replies.append(replie)\n",
    "        try:\n",
    "            prev_comment_btn = WebDriverWait(driver, 2).until(\n",
    "                EC.element_to_be_clickable(\n",
    "                    (\n",
    "                        By.CSS_SELECTOR,\n",
    "                        f'div[id=\"root\"] > div[class] > div[id] + div > div[id=\"comment_replies_more_1:{replie_id}\"] > a',\n",
    "                    )\n",
    "                )\n",
    "            )\n",
    "            prev_comment_btn.click()\n",
    "        except:\n",
    "            print(\"No additional replies.\")\n",
    "            break\n",
    "    driver.close()\n",
    "    time.sleep(.5)\n",
    "    driver.switch_to.window(driver.window_handles[1])\n",
    "    return replies"
   ]
  },
  {
   "cell_type": "code",
   "execution_count": 501,
   "metadata": {},
   "outputs": [],
   "source": [
    "import re\n",
    "\n",
    "\n",
    "def comments_scraping():\n",
    "    post_id = re.search(r\"/permalink/(\\d+)\", driver.current_url).group(1)\n",
    "    comments = []\n",
    "\n",
    "    while True:\n",
    "        box_comments = driver.find_elements(\n",
    "            By.CSS_SELECTOR,\n",
    "            \"#m_story_permalink_view > div.bi + div > div > div:not([id]) > div:has(div)\",\n",
    "        )\n",
    "\n",
    "        for box_comment in box_comments:\n",
    "            comment = dict()\n",
    "            comment[\"comment_by\"] = box_comment.find_element(\n",
    "                By.CSS_SELECTOR, \"div > h3\"\n",
    "            ).text\n",
    "            comment[\"comment\"] = box_comment.find_elements(\n",
    "                By.CSS_SELECTOR, \"div > div:nth-child(2)\"\n",
    "            )[0].text\n",
    "            driver.switch_to.window(driver.window_handles[1])\n",
    "\n",
    "            replies = replies_scraping(box_comment)\n",
    "            if replies:\n",
    "                # print(replies)\n",
    "                comment[\"replies\"] = replies\n",
    "\n",
    "            comments.append(comment)\n",
    "\n",
    "        try:\n",
    "            prev_comment_btn = WebDriverWait(driver, 2).until(\n",
    "                EC.element_to_be_clickable(\n",
    "                    (\n",
    "                        By.CSS_SELECTOR,\n",
    "                        f'#m_story_permalink_view > div.bi + div > div > div:not([id]) > div[id=\"see_prev_{post_id}\"] > a',\n",
    "                    )\n",
    "                )\n",
    "            )\n",
    "            prev_comment_btn.click()\n",
    "        except:\n",
    "            # print(\"No additional comments.\")\n",
    "            break\n",
    "    print(f\"Complete post id: {post_id}\")\n",
    "    return comments"
   ]
  },
  {
   "cell_type": "code",
   "execution_count": 497,
   "metadata": {},
   "outputs": [],
   "source": [
    "import re\n",
    "\n",
    "def post_scraping():\n",
    "    post_id = re.search(r\"/permalink/(\\d+)\", driver.current_url).group(1)\n",
    "    post = dict()\n",
    "    post[\"post_id\"] = post_id\n",
    "    post[\"topic\"] = driver.find_element(\n",
    "        By.CSS_SELECTOR,\n",
    "        'div[id=\"m_story_permalink_view\"] div.bi div.bj.bk div.bl > div',\n",
    "    ).text\n",
    "    post[\"topic_by\"] = driver.find_element(\n",
    "        By.CSS_SELECTOR, \"td.t.bo header h3 span strong a\"\n",
    "    ).text\n",
    "    post[\"comments\"] = comments_scraping()\n",
    "    return post"
   ]
  },
  {
   "cell_type": "code",
   "execution_count": 526,
   "metadata": {},
   "outputs": [],
   "source": [
    "driver.switch_to.window(driver.window_handles[0])\n",
    "\n",
    "main_group_link = \"https://mbasic.facebook.com/groups/1991721561082549/\"\n",
    "driver.get(main_group_link)"
   ]
  },
  {
   "cell_type": "code",
   "execution_count": null,
   "metadata": {},
   "outputs": [],
   "source": [
    "anchors = driver.find_elements(By.CSS_SELECTOR, 'div.cp.cq a')\n",
    "anchors = [a.get_attribute('href') for a in anchors if (a.text == 'เรื่องราวฉบับเต็ม') or (a.text == 'Full Story')]\n",
    "\n",
    "posts = []\n",
    "\n",
    "for a in anchors:\n",
    "    driver.execute_script(f\"window.open('{a}', '_blank')\")\n",
    "    driver.switch_to.window(driver.window_handles[1])\n",
    "    post = post_scraping()\n",
    "    posts.append(post)\n",
    "    driver.close()\n",
    "    driver.switch_to.window(driver.window_handles[0])"
   ]
  },
  {
   "cell_type": "markdown",
   "metadata": {},
   "source": [
    "# ไม่เกี่ยว"
   ]
  },
  {
   "cell_type": "code",
   "execution_count": 525,
   "metadata": {},
   "outputs": [],
   "source": [
    "import json\n",
    "\n",
    "with open('data.json', 'a', encoding=\"utf-8-sig\") as file:\n",
    "  json.dump(posts, file, indent=2, ensure_ascii=False)"
   ]
  },
  {
   "cell_type": "code",
   "execution_count": null,
   "metadata": {},
   "outputs": [],
   "source": [
    "import pyperclip\n",
    "pyperclip.copy(anchors[0])"
   ]
  }
 ],
 "metadata": {
  "kernelspec": {
   "display_name": "pyenv",
   "language": "python",
   "name": "python3"
  },
  "language_info": {
   "codemirror_mode": {
    "name": "ipython",
    "version": 3
   },
   "file_extension": ".py",
   "mimetype": "text/x-python",
   "name": "python",
   "nbconvert_exporter": "python",
   "pygments_lexer": "ipython3",
   "version": "3.10.4"
  }
 },
 "nbformat": 4,
 "nbformat_minor": 2
}
